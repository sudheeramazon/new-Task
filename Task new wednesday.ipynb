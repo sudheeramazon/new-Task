{
 "cells": [
  {
   "cell_type": "markdown",
   "metadata": {},
   "source": [
    "# 1.Create a one-dimensional ndarray object with a length of 10 and all 0s, and then make the fifth element equal to 1"
   ]
  },
  {
   "cell_type": "code",
   "execution_count": 11,
   "metadata": {},
   "outputs": [
    {
     "data": {
      "text/plain": [
       "array([0., 0., 0., 0., 1., 0., 0., 0., 0., 0.])"
      ]
     },
     "execution_count": 11,
     "metadata": {},
     "output_type": "execute_result"
    }
   ],
   "source": [
    "import numpy as np\n",
    "import pandas as pd\n",
    "from pandas import Series,DataFrame\n",
    "import matplotlib.pyplot as plt\n",
    "\n",
    "%matplotlib inline\n",
    "s1 = np.zeros(shape = 10)\n",
    "s1\n",
    "s1[4] = 1\n",
    "s1"
   ]
  },
  {
   "cell_type": "markdown",
   "metadata": {},
   "source": [
    "# 2. Create an ndarray object elements from 10 to 49"
   ]
  },
  {
   "cell_type": "code",
   "execution_count": 16,
   "metadata": {},
   "outputs": [
    {
     "data": {
      "text/plain": [
       "array([10, 11, 12, 13, 14, 15, 16, 17, 18, 19, 20, 21, 22, 23, 24, 25, 26,\n",
       "       27, 28, 29, 30, 31, 32, 33, 34, 35, 36, 37, 38, 39, 40, 41, 42, 43,\n",
       "       44, 45, 46, 47, 48, 49])"
      ]
     },
     "execution_count": 16,
     "metadata": {},
     "output_type": "execute_result"
    }
   ],
   "source": [
    "np.random.randint(10,50,size=10)\n",
    "np.linspace(10,49,10)\n",
    "a = np.arange(10,50)\n",
    "a"
   ]
  },
  {
   "cell_type": "markdown",
   "metadata": {},
   "source": [
    "# 3. Reverse the position of all the elements of question 2"
   ]
  },
  {
   "cell_type": "code",
   "execution_count": 17,
   "metadata": {},
   "outputs": [
    {
     "data": {
      "text/plain": [
       "array([49, 48, 47, 46, 45, 44, 43, 42, 41, 40, 39, 38, 37, 36, 35, 34, 33,\n",
       "       32, 31, 30, 29, 28, 27, 26, 25, 24, 23, 22, 21, 20, 19, 18, 17, 16,\n",
       "       15, 14, 13, 12, 11, 10])"
      ]
     },
     "execution_count": 17,
     "metadata": {},
     "output_type": "execute_result"
    }
   ],
   "source": [
    "a[::-1]"
   ]
  },
  {
   "cell_type": "markdown",
   "metadata": {},
   "source": [
    "# 4.Use np.random.random to create a 10*10 ndarray object and print out the largest and smallest elements"
   ]
  },
  {
   "cell_type": "code",
   "execution_count": 23,
   "metadata": {},
   "outputs": [
    {
     "data": {
      "text/plain": [
       "(0.007345728073321678, 0.9834342073236058)"
      ]
     },
     "execution_count": 23,
     "metadata": {},
     "output_type": "execute_result"
    }
   ],
   "source": [
    "a4 = np.random.random(size = (10,10))\n",
    "a4\n",
    "zmin,zmax=a4.min(),a4.max()\n",
    "zmin,zmax"
   ]
  },
  {
   "cell_type": "markdown",
   "metadata": {},
   "source": [
    "# 5.Create a 1010 ndarray object, and the matrix boundary is all 1, and the inside is all 0 "
   ]
  },
  {
   "cell_type": "code",
   "execution_count": 22,
   "metadata": {},
   "outputs": [
    {
     "data": {
      "text/plain": [
       "array([[1, 1, 1, 1, 1, 1, 1, 1, 1, 1],\n",
       "       [1, 0, 0, 0, 0, 0, 0, 0, 0, 1],\n",
       "       [1, 0, 0, 0, 0, 0, 0, 0, 0, 1],\n",
       "       [1, 0, 0, 0, 0, 0, 0, 0, 0, 1],\n",
       "       [1, 0, 0, 0, 0, 0, 0, 0, 0, 1],\n",
       "       [1, 0, 0, 0, 0, 0, 0, 0, 0, 1],\n",
       "       [1, 0, 0, 0, 0, 0, 0, 0, 0, 1],\n",
       "       [1, 0, 0, 0, 0, 0, 0, 0, 0, 1],\n",
       "       [1, 0, 0, 0, 0, 0, 0, 0, 0, 1],\n",
       "       [1, 1, 1, 1, 1, 1, 1, 1, 1, 1]], dtype=int8)"
      ]
     },
     "execution_count": 22,
     "metadata": {},
     "output_type": "execute_result"
    }
   ],
   "source": [
    "import numpy as np\n",
    "nd = np.zeros(shape = (10, 10),dtype = np. int8)\n",
    "nd[[0,9]] = 1\n",
    "\n",
    "nd[:,[0,9]] = 1\n",
    "nd"
   ]
  },
  {
   "cell_type": "markdown",
   "metadata": {},
   "source": [
    "# 6.Create a 5*5 matrix with each row from 0 to 4 "
   ]
  },
  {
   "cell_type": "code",
   "execution_count": 25,
   "metadata": {},
   "outputs": [
    {
     "data": {
      "text/plain": [
       "array([[0, 1, 2, 3, 4],\n",
       "       [0, 1, 2, 3, 4],\n",
       "       [0, 1, 2, 3, 4],\n",
       "       [0, 1, 2, 3, 4],\n",
       "       [0, 1, 2, 3, 4]])"
      ]
     },
     "execution_count": 25,
     "metadata": {},
     "output_type": "execute_result"
    }
   ],
   "source": [
    "a = [0,1,2,3,4]\n",
    "nd = np.array(a*5)\n",
    "nd.reshape(5,5)"
   ]
  },
  {
   "cell_type": "markdown",
   "metadata": {},
   "source": [
    "# 7.Create an arithmetic sequence of length 12 between (0, 1) "
   ]
  },
  {
   "cell_type": "code",
   "execution_count": 26,
   "metadata": {},
   "outputs": [
    {
     "data": {
      "text/plain": [
       "array([0.        , 0.09090909, 0.18181818, 0.27272727, 0.36363636,\n",
       "       0.45454545, 0.54545455, 0.63636364, 0.72727273, 0.81818182,\n",
       "       0.90909091, 1.        ])"
      ]
     },
     "execution_count": 26,
     "metadata": {},
     "output_type": "execute_result"
    }
   ],
   "source": [
    "np.linspace(0,1,12)"
   ]
  },
  {
   "cell_type": "markdown",
   "metadata": {},
   "source": [
    "# 8.Create a random array of length 10 and sort"
   ]
  },
  {
   "cell_type": "code",
   "execution_count": 34,
   "metadata": {},
   "outputs": [
    {
     "data": {
      "text/plain": [
       "array([0.00400603, 0.07422144, 0.09471397, 0.26896984, 0.38810247,\n",
       "       0.6089411 , 0.61945408, 0.83662853, 0.90352872, 0.93581637])"
      ]
     },
     "execution_count": 34,
     "metadata": {},
     "output_type": "execute_result"
    }
   ],
   "source": [
    "a8 = np.random.random(10)\n",
    "a8\n",
    "np.sort(a8)\n",
    "a8.argsort()\n",
    "a8[a8.argsort()]"
   ]
  },
  {
   "cell_type": "markdown",
   "metadata": {},
   "source": [
    "   #      9.      Create a random array of length 10 and replace the maximum value with 0"
   ]
  },
  {
   "cell_type": "code",
   "execution_count": 123,
   "metadata": {},
   "outputs": [
    {
     "data": {
      "text/plain": [
       "array([9, 3, 4, 0, 8, 8, 7, 8, 6, 9])"
      ]
     },
     "metadata": {},
     "output_type": "display_data"
    },
    {
     "data": {
      "text/plain": [
       "array([-100,    3,    4,    0,    8,    8,    7,    8,    6, -100])"
      ]
     },
     "execution_count": 123,
     "metadata": {},
     "output_type": "execute_result"
    }
   ],
   "source": [
    "nd = np.random.randint(0,10,size = 10)\n",
    "display(nd)\n",
    "index_max= nd.argmax()\n",
    "nd[index_max]\n",
    "all_index_max = np.argwhere(nd==nd[index_max]).reshape(-1)\n",
    "all_index_max\n",
    "nd[all_index_max]=-100\n",
    "nd"
   ]
  },
  {
   "cell_type": "markdown",
   "metadata": {},
   "source": [
    "# 10. How to sort a 5*5 matrix according to the third column?"
   ]
  },
  {
   "cell_type": "code",
   "execution_count": 128,
   "metadata": {},
   "outputs": [
    {
     "data": {
      "text/plain": [
       "array([[17, 92,  5, 27, 69],\n",
       "       [67, 20, 20, 31, 33],\n",
       "       [42, 74, 21, 60, 11],\n",
       "       [ 2, 82, 47, 37, 70],\n",
       "       [53, 28, 49, 90, 98]])"
      ]
     },
     "execution_count": 128,
     "metadata": {},
     "output_type": "execute_result"
    }
   ],
   "source": [
    "n10=np.random.randint(0,100,size=(5,5))\n",
    "n10\n",
    "n10[:,2]\n",
    "np.argsort(n10[:,2])\n",
    "n10[np.argsort(n10[:,2])]"
   ]
  },
  {
   "cell_type": "markdown",
   "metadata": {},
   "source": [
    "# 11.Given a 4-dimensional matrix, how to get the sum of the last two dimensions?"
   ]
  },
  {
   "cell_type": "code",
   "execution_count": 67,
   "metadata": {},
   "outputs": [
    {
     "data": {
      "text/plain": [
       "array([[586, 333, 380],\n",
       "       [520, 428, 474]])"
      ]
     },
     "execution_count": 67,
     "metadata": {},
     "output_type": "execute_result"
    }
   ],
   "source": [
    "n11=np.random. randint(0, 100, size=(2,3,3,3))\n",
    "n11\n",
    "n11.sum(axis=(2,3))\n",
    "n11. sum(axis=(-1,-2))"
   ]
  },
  {
   "cell_type": "markdown",
   "metadata": {},
   "source": [
    "# 12. Given an array [1, 2, 3, 4, 5], how to get a new array with 3 zeros inserted between each element of this array?"
   ]
  },
  {
   "cell_type": "code",
   "execution_count": 75,
   "metadata": {},
   "outputs": [
    {
     "data": {
      "text/plain": [
       "array([1, 0, 0, 0, 2, 0, 0, 0, 3, 0, 0, 0, 4, 0, 0, 0, 5])"
      ]
     },
     "execution_count": 75,
     "metadata": {},
     "output_type": "execute_result"
    }
   ],
   "source": [
    "nd1 = np.arange(1,6)\n",
    "nd2 = np.zeros(shape=17,dtype=int)\n",
    "nd2[::4] = nd1\n",
    "nd2"
   ]
  },
  {
   "cell_type": "markdown",
   "metadata": {},
   "source": [
    "# 13.Given a two-dimensional matrix, how to exchange the elements of two rows?"
   ]
  },
  {
   "cell_type": "code",
   "execution_count": 83,
   "metadata": {},
   "outputs": [
    {
     "data": {
      "text/plain": [
       "array([[92, 16, 15],\n",
       "       [91, 29, 17],\n",
       "       [41, 72, 91]])"
      ]
     },
     "execution_count": 83,
     "metadata": {},
     "output_type": "execute_result"
    }
   ],
   "source": [
    "np13=np.random.randint(0,100,size=(3,3))\n",
    "np13"
   ]
  },
  {
   "cell_type": "markdown",
   "metadata": {},
   "source": [
    "# 14.Create a random array with a length of 100,000, use two methods to square it, and compare the time taken"
   ]
  },
  {
   "cell_type": "code",
   "execution_count": 91,
   "metadata": {},
   "outputs": [
    {
     "name": "stdout",
     "output_type": "stream",
     "text": [
      "1.36 µs ± 86.1 ns per loop (mean ± std. dev. of 7 runs, 1000000 loops each)\n",
      "1.43 µs ± 79.1 ns per loop (mean ± std. dev. of 7 runs, 1000000 loops each)\n",
      "3.69 µs ± 209 ns per loop (mean ± std. dev. of 7 runs, 100000 loops each)\n"
     ]
    }
   ],
   "source": [
    "n14=np.random.random(size=100000)\n",
    "n14\n",
    "n14=np.random.randint(0,100000,(5))\n",
    "n14\n",
    "%timeit np.power(n14,3)\n",
    "%timeit n14**3\n",
    "n14_2=np.dot(n14,n14)\n",
    "%timeit np.dot(n14_2,n14)"
   ]
  },
  {
   "cell_type": "markdown",
   "metadata": {},
   "source": [
    "# 15.Create a 53 random matrices and a 32 Random matrix, find matrix product"
   ]
  },
  {
   "cell_type": "code",
   "execution_count": 95,
   "metadata": {},
   "outputs": [
    {
     "data": {
      "text/plain": [
       "array([[ 4046, 10632],\n",
       "       [12698, 17387],\n",
       "       [ 9977, 17991],\n",
       "       [ 4428, 12004],\n",
       "       [10554, 16121]])"
      ]
     },
     "execution_count": 95,
     "metadata": {},
     "output_type": "execute_result"
    }
   ],
   "source": [
    "n15_53=np.random.randint(0,100,size=(5,3))\n",
    "n15_53\n",
    "n15_32 = np.random.randint(0,100,(3,2))\n",
    "n15_32\n",
    "np.dot(n15_53,n15_32)"
   ]
  },
  {
   "cell_type": "markdown",
   "metadata": {},
   "source": [
    "# 16.The elements of each row of the matrix are subtracted from the average value of the row"
   ]
  },
  {
   "cell_type": "code",
   "execution_count": 99,
   "metadata": {},
   "outputs": [
    {
     "data": {
      "text/plain": [
       "array([[-0.33333333, -1.33333333,  1.66666667],\n",
       "       [ 0.33333333,  0.33333333, -0.66666667],\n",
       "       [ 0.33333333, -0.66666667,  0.33333333]])"
      ]
     },
     "execution_count": 99,
     "metadata": {},
     "output_type": "execute_result"
    }
   ],
   "source": [
    "n16 = np.random.randint(0,10,(3,3))\n",
    "n16\n",
    "n16_1 = n16.mean(axis=1).reshape(3,1)\n",
    "n16_1\n",
    "n16-n16_1"
   ]
  },
  {
   "cell_type": "markdown",
   "metadata": {},
   "source": [
    "# 17.Print out the following function (required to use np.zeros to create an 8*8 matrix):\n",
    "\n",
    "* [[0 1 0 1 0 1 0 1]\n",
    "* [1 0 1 0 1 0 1 0]\n",
    "* [0 1 0 1 0 1 0 1]\n",
    "* [1 0 1 0 1 0 1 0]\n",
    "* [0 1 0 1 0 1 0 1]\n",
    "* [1 0 1 0 1 0 1 0]\n",
    "* [0 1 0 1 0 1 0 1]\n",
    "* [1 0 1 0 1 0 1 0]]"
   ]
  },
  {
   "cell_type": "code",
   "execution_count": 100,
   "metadata": {},
   "outputs": [
    {
     "data": {
      "text/plain": [
       "array([[0, 1, 0, 1, 0, 1, 0, 1],\n",
       "       [1, 0, 1, 0, 1, 0, 1, 0],\n",
       "       [0, 1, 0, 1, 0, 1, 0, 1],\n",
       "       [1, 0, 1, 0, 1, 0, 1, 0],\n",
       "       [0, 1, 0, 1, 0, 1, 0, 1],\n",
       "       [1, 0, 1, 0, 1, 0, 1, 0],\n",
       "       [0, 1, 0, 1, 0, 1, 0, 1],\n",
       "       [1, 0, 1, 0, 1, 0, 1, 0]])"
      ]
     },
     "execution_count": 100,
     "metadata": {},
     "output_type": "execute_result"
    }
   ],
   "source": [
    "nd=np.ones(shape = (8,8),dtype=int)\n",
    "nd[::2,::2]=0\n",
    "nd[1::2,1::2]=0\n",
    "nd"
   ]
  },
  {
   "cell_type": "markdown",
   "metadata": {},
   "source": [
    "# 18.Regularize a 55 random matrix [Regular concept: Assuming that a is an element in the matrix, max/min are the maximum and minimum values ​​of the matrix elements respectively, then a = (a-min)/(max -min)] "
   ]
  },
  {
   "cell_type": "code",
   "execution_count": 106,
   "metadata": {},
   "outputs": [
    {
     "data": {
      "text/plain": [
       "array([[0.18556701, 0.79381443, 0.7628866 , 0.        , 0.16494845],\n",
       "       [0.59793814, 0.06185567, 0.55670103, 0.56701031, 0.87628866],\n",
       "       [0.50515464, 0.71134021, 0.09278351, 0.02061856, 0.30927835],\n",
       "       [0.86597938, 0.72164948, 0.60824742, 1.        , 0.77319588],\n",
       "       [0.05154639, 0.48453608, 0.92783505, 0.71134021, 0.32989691]])"
      ]
     },
     "execution_count": 106,
     "metadata": {},
     "output_type": "execute_result"
    }
   ],
   "source": [
    "n18 = np.random.randint(0,100,(5,5))\n",
    "n18\n",
    "nmax,nmin=n18.max(),n18.min()\n",
    "nmax,nmin\n",
    "n18=(n18-nmin)/(nmax-nmin)\n",
    "n18"
   ]
  },
  {
   "cell_type": "markdown",
   "metadata": {},
   "source": [
    "# 19.Convert a one-dimensional array into a binary representation matrix. E.g [1,2,3] is converted to\n",
    "* [[0,0,1],\n",
    "* [0,1,0],\n",
    "* [0,1,1]]"
   ]
  },
  {
   "cell_type": "code",
   "execution_count": 111,
   "metadata": {},
   "outputs": [
    {
     "data": {
      "text/plain": [
       "0"
      ]
     },
     "execution_count": 111,
     "metadata": {},
     "output_type": "execute_result"
    }
   ],
   "source": [
    "1 and 0\n",
    "1 or 1\n",
    "1 & 2"
   ]
  },
  {
   "cell_type": "markdown",
   "metadata": {},
   "source": [
    "# 20 realize the bubble sort method\n",
    "\n",
    "* n=[19,60,66,71,54,57,1,24,82,39]\n"
   ]
  },
  {
   "cell_type": "code",
   "execution_count": 112,
   "metadata": {},
   "outputs": [
    {
     "data": {
      "text/plain": [
       "[1, 19, 24, 39, 57, 60, 66, 82, 7154]"
      ]
     },
     "execution_count": 112,
     "metadata": {},
     "output_type": "execute_result"
    }
   ],
   "source": [
    "n20=[19,60,66,7154,57,1,24,82,39]\n",
    "for i in range(len(n20)-1):\n",
    "    for j in range (len(n20)-i-1):\n",
    "        if  n20[j]>n20[j+1]:\n",
    "            n20[j],n20[j+1]=n20[j+1],n20[j]\n",
    "n20"
   ]
  },
  {
   "cell_type": "code",
   "execution_count": null,
   "metadata": {},
   "outputs": [],
   "source": []
  }
 ],
 "metadata": {
  "kernelspec": {
   "display_name": "Python 3",
   "language": "python",
   "name": "python3"
  },
  "language_info": {
   "codemirror_mode": {
    "name": "ipython",
    "version": 3
   },
   "file_extension": ".py",
   "mimetype": "text/x-python",
   "name": "python",
   "nbconvert_exporter": "python",
   "pygments_lexer": "ipython3",
   "version": "3.8.5"
  }
 },
 "nbformat": 4,
 "nbformat_minor": 4
}
